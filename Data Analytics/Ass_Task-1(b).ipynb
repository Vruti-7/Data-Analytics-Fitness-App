{
 "cells": [
  {
   "cell_type": "markdown",
   "id": "bcfd5523",
   "metadata": {},
   "source": [
    "# Task-1:Advanced Statistical Analysis for Software Engineering"
   ]
  },
  {
   "cell_type": "code",
   "execution_count": 1,
   "id": "9a6f4a88",
   "metadata": {},
   "outputs": [],
   "source": [
    "import pandas as pd\n",
    "import numpy as np\n",
    "from sklearn.model_selection import train_test_split\n",
    "from sklearn.linear_model import LinearRegression\n",
    "from sklearn.cluster import KMeans\n",
    "from sklearn.preprocessing import LabelEncoder, StandardScaler\n",
    "import matplotlib.pyplot as plt"
   ]
  },
  {
   "cell_type": "code",
   "execution_count": 2,
   "id": "846c4d86",
   "metadata": {},
   "outputs": [],
   "source": [
    "#Task-1 b)Apply advanced statistical techniques(e.g.,regression analysis,clustering, etc.)\n",
    "#to create models that predict user behaviour and app usage patterns.\n",
    "\n",
    "# Step 1: Data Loading\n",
    "data = {\n",
    "    'User ID': [1, 2, 3, 4, 5],\n",
    "    'Gender': ['Male', 'Female', 'Male', 'Female', 'Male'],\n",
    "    'Age': [30, 25, 40, 35, 28],\n",
    "    'Activity Level': ['Active', 'Moderate', 'Sedentary', 'Active', 'Moderate'],\n",
    "    'Location': ['Urban', 'Rural', 'Suburban', 'Urban', 'Rural'],\n",
    "    'App Sessions': [100, 50, 200, 150, 75],\n",
    "    'Distance Travelled (km)': [50, 20, 100, 75, 30],\n",
    "    'Calories Burned': [500, 200, 1000, 750, 300]\n",
    "}\n",
    "df = pd.DataFrame(data)"
   ]
  },
  {
   "cell_type": "code",
   "execution_count": 3,
   "id": "a7d353f2",
   "metadata": {},
   "outputs": [],
   "source": [
    "# Step 2: Data Preprocessing\n",
    "# Encoding categorical variables\n",
    "label_encoder = LabelEncoder()\n",
    "df['Gender'] = label_encoder.fit_transform(df['Gender'])\n",
    "df['Activity Level'] = label_encoder.fit_transform(df['Activity Level'])\n",
    "df['Location'] = label_encoder.fit_transform(df['Location'])"
   ]
  },
  {
   "cell_type": "code",
   "execution_count": 4,
   "id": "ede48bcb",
   "metadata": {
    "scrolled": true
   },
   "outputs": [
    {
     "data": {
      "text/html": [
       "<div>\n",
       "<style scoped>\n",
       "    .dataframe tbody tr th:only-of-type {\n",
       "        vertical-align: middle;\n",
       "    }\n",
       "\n",
       "    .dataframe tbody tr th {\n",
       "        vertical-align: top;\n",
       "    }\n",
       "\n",
       "    .dataframe thead th {\n",
       "        text-align: right;\n",
       "    }\n",
       "</style>\n",
       "<table border=\"1\" class=\"dataframe\">\n",
       "  <thead>\n",
       "    <tr style=\"text-align: right;\">\n",
       "      <th></th>\n",
       "      <th>User ID</th>\n",
       "      <th>Gender</th>\n",
       "      <th>Age</th>\n",
       "      <th>Activity Level</th>\n",
       "      <th>Location</th>\n",
       "      <th>App Sessions</th>\n",
       "      <th>Distance Travelled (km)</th>\n",
       "      <th>Calories Burned</th>\n",
       "    </tr>\n",
       "  </thead>\n",
       "  <tbody>\n",
       "    <tr>\n",
       "      <th>0</th>\n",
       "      <td>1</td>\n",
       "      <td>1</td>\n",
       "      <td>30</td>\n",
       "      <td>0</td>\n",
       "      <td>2</td>\n",
       "      <td>100</td>\n",
       "      <td>50</td>\n",
       "      <td>500</td>\n",
       "    </tr>\n",
       "    <tr>\n",
       "      <th>1</th>\n",
       "      <td>2</td>\n",
       "      <td>0</td>\n",
       "      <td>25</td>\n",
       "      <td>1</td>\n",
       "      <td>0</td>\n",
       "      <td>50</td>\n",
       "      <td>20</td>\n",
       "      <td>200</td>\n",
       "    </tr>\n",
       "    <tr>\n",
       "      <th>2</th>\n",
       "      <td>3</td>\n",
       "      <td>1</td>\n",
       "      <td>40</td>\n",
       "      <td>2</td>\n",
       "      <td>1</td>\n",
       "      <td>200</td>\n",
       "      <td>100</td>\n",
       "      <td>1000</td>\n",
       "    </tr>\n",
       "    <tr>\n",
       "      <th>3</th>\n",
       "      <td>4</td>\n",
       "      <td>0</td>\n",
       "      <td>35</td>\n",
       "      <td>0</td>\n",
       "      <td>2</td>\n",
       "      <td>150</td>\n",
       "      <td>75</td>\n",
       "      <td>750</td>\n",
       "    </tr>\n",
       "    <tr>\n",
       "      <th>4</th>\n",
       "      <td>5</td>\n",
       "      <td>1</td>\n",
       "      <td>28</td>\n",
       "      <td>1</td>\n",
       "      <td>0</td>\n",
       "      <td>75</td>\n",
       "      <td>30</td>\n",
       "      <td>300</td>\n",
       "    </tr>\n",
       "  </tbody>\n",
       "</table>\n",
       "</div>"
      ],
      "text/plain": [
       "   User ID  Gender  Age  Activity Level  Location  App Sessions  \\\n",
       "0        1       1   30               0         2           100   \n",
       "1        2       0   25               1         0            50   \n",
       "2        3       1   40               2         1           200   \n",
       "3        4       0   35               0         2           150   \n",
       "4        5       1   28               1         0            75   \n",
       "\n",
       "   Distance Travelled (km)  Calories Burned  \n",
       "0                       50              500  \n",
       "1                       20              200  \n",
       "2                      100             1000  \n",
       "3                       75              750  \n",
       "4                       30              300  "
      ]
     },
     "execution_count": 4,
     "metadata": {},
     "output_type": "execute_result"
    }
   ],
   "source": [
    "df"
   ]
  },
  {
   "cell_type": "code",
   "execution_count": 5,
   "id": "b5ac0bac",
   "metadata": {},
   "outputs": [
    {
     "data": {
      "text/plain": [
       "Index(['User ID', 'Gender', 'Age', 'Activity Level', 'Location',\n",
       "       'App Sessions', 'Distance Travelled (km)', 'Calories Burned'],\n",
       "      dtype='object')"
      ]
     },
     "execution_count": 5,
     "metadata": {},
     "output_type": "execute_result"
    }
   ],
   "source": [
    "df.columns"
   ]
  },
  {
   "cell_type": "code",
   "execution_count": 6,
   "id": "c090bd28",
   "metadata": {},
   "outputs": [],
   "source": [
    "# Step 3: Feature Selection\n",
    "col_lst = ['User ID', 'App Sessions']\n",
    "X = df.drop(col_lst,axis=1)\n",
    "y = df['App Sessions']"
   ]
  },
  {
   "cell_type": "code",
   "execution_count": 7,
   "id": "0a4c8152",
   "metadata": {},
   "outputs": [],
   "source": [
    "# Step 4: Train-test Split\n",
    "X_train, X_test, y_train, y_test = train_test_split(X, y, test_size=0.2, random_state=42)"
   ]
  },
  {
   "cell_type": "code",
   "execution_count": 8,
   "id": "21838bfe",
   "metadata": {},
   "outputs": [
    {
     "name": "stdout",
     "output_type": "stream",
     "text": [
      "Mean Squared Error: 22.80807428076422\n"
     ]
    }
   ],
   "source": [
    "# Step 5: Regression Analysis\n",
    "from sklearn.metrics import mean_squared_error, r2_score, silhouette_score\n",
    "regressor = LinearRegression()\n",
    "regressor.fit(X_train, y_train)\n",
    "y_pred_test = regressor.predict(X_test)\n",
    "mse_test = mean_squared_error(y_test, y_pred_test)\n",
    "\n",
    "print(\"Mean Squared Error:\",mse_test)"
   ]
  },
  {
   "cell_type": "code",
   "execution_count": 9,
   "id": "ab7d8e53",
   "metadata": {},
   "outputs": [
    {
     "name": "stderr",
     "output_type": "stream",
     "text": [
      "C:\\Users\\DELL\\anaconda3\\Lib\\site-packages\\sklearn\\cluster\\_kmeans.py:1412: FutureWarning: The default value of `n_init` will change from 10 to 'auto' in 1.4. Set the value of `n_init` explicitly to suppress the warning\n",
      "  super()._check_params_vs_input(X, default_n_init=10)\n",
      "C:\\Users\\DELL\\anaconda3\\Lib\\site-packages\\sklearn\\cluster\\_kmeans.py:1436: UserWarning: KMeans is known to have a memory leak on Windows with MKL, when there are less chunks than available threads. You can avoid it by setting the environment variable OMP_NUM_THREADS=1.\n",
      "  warnings.warn(\n"
     ]
    },
    {
     "name": "stdout",
     "output_type": "stream",
     "text": [
      "Silhouette Score: 0.5602169336580022\n"
     ]
    }
   ],
   "source": [
    "# Step 6: Clustering\n",
    "#scaler = StandardScaler()\n",
    "#X_scaled = scaler.fit_transform(X)\n",
    "\n",
    "kmeans = KMeans(n_clusters=2, random_state=42)\n",
    "kmeans.fit(X)\n",
    "df['Cluster'] = kmeans.labels_\n",
    "\n",
    "# Silhouette Score\n",
    "silhouette_score_value = silhouette_score(X, df['Cluster'])\n",
    "print(f\"Silhouette Score: {silhouette_score_value}\")"
   ]
  },
  {
   "cell_type": "code",
   "execution_count": 10,
   "id": "adc7eb7a",
   "metadata": {},
   "outputs": [
    {
     "data": {
      "image/png": "[encoded data removed]",
      "text/plain": [
       "<Figure size 640x480 with 1 Axes>"
      ]
     },
     "metadata": {},
     "output_type": "display_data"
    }
   ],
   "source": [
    "# Step 7: Visualization\n",
    "plt.scatter(df['Age'], df['App Sessions'], c=df['Cluster'], cmap='viridis')\n",
    "plt.xlabel('Age')\n",
    "plt.ylabel('App Sessions')\n",
    "plt.title('Age vs App Sessions (Clustered)')\n",
    "plt.show()"
   ]
  },
  {
   "cell_type": "code",
   "execution_count": null,
   "id": "100ff45e",
   "metadata": {},
   "outputs": [],
   "source": []
  }
 ],
 "metadata": {
  "kernelspec": {
   "display_name": "Python 3 (ipykernel)",
   "language": "python",
   "name": "python3"
  },
  "language_info": {
   "codemirror_mode": {
    "name": "ipython",
    "version": 3
   },
   "file_extension": ".py",
   "mimetype": "text/x-python",
   "name": "python",
   "nbconvert_exporter": "python",
   "pygments_lexer": "ipython3",
   "version": "3.11.5"
  }
 },
 "nbformat": 4,
 "nbformat_minor": 5
}
